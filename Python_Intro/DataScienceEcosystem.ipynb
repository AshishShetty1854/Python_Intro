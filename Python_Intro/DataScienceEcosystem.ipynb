{
 "cells": [
  {
   "cell_type": "markdown",
   "id": "d5893d71-0f8f-4856-934b-38a27e4e5cb4",
   "metadata": {},
   "source": [
    "# Data Science Tools and Ecosystem"
   ]
  },
  {
   "cell_type": "code",
   "execution_count": 1,
   "id": "08ef93c1-e74c-436b-a025-d7d87e6f78a2",
   "metadata": {},
   "outputs": [
    {
     "name": "stdout",
     "output_type": "stream",
     "text": [
      "Requirement already satisfied: nbconvert in c:\\software\\new folder\\lib\\site-packages (7.16.4)\n",
      "Requirement already satisfied: beautifulsoup4 in c:\\software\\new folder\\lib\\site-packages (from nbconvert) (4.12.3)\n",
      "Requirement already satisfied: bleach!=5.0.0 in c:\\software\\new folder\\lib\\site-packages (from nbconvert) (4.1.0)\n",
      "Requirement already satisfied: defusedxml in c:\\software\\new folder\\lib\\site-packages (from nbconvert) (0.7.1)\n",
      "Requirement already satisfied: jinja2>=3.0 in c:\\software\\new folder\\lib\\site-packages (from nbconvert) (3.1.4)\n",
      "Requirement already satisfied: jupyter-core>=4.7 in c:\\software\\new folder\\lib\\site-packages (from nbconvert) (5.7.2)\n",
      "Requirement already satisfied: jupyterlab-pygments in c:\\software\\new folder\\lib\\site-packages (from nbconvert) (0.1.2)\n",
      "Requirement already satisfied: markupsafe>=2.0 in c:\\software\\new folder\\lib\\site-packages (from nbconvert) (2.1.3)\n",
      "Requirement already satisfied: mistune<4,>=2.0.3 in c:\\software\\new folder\\lib\\site-packages (from nbconvert) (2.0.4)\n",
      "Requirement already satisfied: nbclient>=0.5.0 in c:\\software\\new folder\\lib\\site-packages (from nbconvert) (0.8.0)\n",
      "Requirement already satisfied: nbformat>=5.7 in c:\\software\\new folder\\lib\\site-packages (from nbconvert) (5.10.4)\n",
      "Requirement already satisfied: packaging in c:\\software\\new folder\\lib\\site-packages (from nbconvert) (24.1)\n",
      "Requirement already satisfied: pandocfilters>=1.4.1 in c:\\software\\new folder\\lib\\site-packages (from nbconvert) (1.5.0)\n",
      "Requirement already satisfied: pygments>=2.4.1 in c:\\software\\new folder\\lib\\site-packages (from nbconvert) (2.15.1)\n",
      "Requirement already satisfied: tinycss2 in c:\\software\\new folder\\lib\\site-packages (from nbconvert) (1.2.1)\n",
      "Requirement already satisfied: traitlets>=5.1 in c:\\software\\new folder\\lib\\site-packages (from nbconvert) (5.14.3)\n",
      "Requirement already satisfied: six>=1.9.0 in c:\\software\\new folder\\lib\\site-packages (from bleach!=5.0.0->nbconvert) (1.16.0)\n",
      "Requirement already satisfied: webencodings in c:\\software\\new folder\\lib\\site-packages (from bleach!=5.0.0->nbconvert) (0.5.1)\n",
      "Requirement already satisfied: platformdirs>=2.5 in c:\\software\\new folder\\lib\\site-packages (from jupyter-core>=4.7->nbconvert) (3.10.0)\n",
      "Requirement already satisfied: pywin32>=300 in c:\\software\\new folder\\lib\\site-packages (from jupyter-core>=4.7->nbconvert) (305.1)\n",
      "Requirement already satisfied: jupyter-client>=6.1.12 in c:\\software\\new folder\\lib\\site-packages (from nbclient>=0.5.0->nbconvert) (8.6.0)\n",
      "Requirement already satisfied: fastjsonschema>=2.15 in c:\\software\\new folder\\lib\\site-packages (from nbformat>=5.7->nbconvert) (2.16.2)\n",
      "Requirement already satisfied: jsonschema>=2.6 in c:\\software\\new folder\\lib\\site-packages (from nbformat>=5.7->nbconvert) (4.23.0)\n",
      "Requirement already satisfied: soupsieve>1.2 in c:\\software\\new folder\\lib\\site-packages (from beautifulsoup4->nbconvert) (2.5)\n",
      "Requirement already satisfied: attrs>=22.2.0 in c:\\software\\new folder\\lib\\site-packages (from jsonschema>=2.6->nbformat>=5.7->nbconvert) (23.1.0)\n",
      "Requirement already satisfied: jsonschema-specifications>=2023.03.6 in c:\\software\\new folder\\lib\\site-packages (from jsonschema>=2.6->nbformat>=5.7->nbconvert) (2023.7.1)\n",
      "Requirement already satisfied: referencing>=0.28.4 in c:\\software\\new folder\\lib\\site-packages (from jsonschema>=2.6->nbformat>=5.7->nbconvert) (0.30.2)\n",
      "Requirement already satisfied: rpds-py>=0.7.1 in c:\\software\\new folder\\lib\\site-packages (from jsonschema>=2.6->nbformat>=5.7->nbconvert) (0.10.6)\n",
      "Requirement already satisfied: python-dateutil>=2.8.2 in c:\\software\\new folder\\lib\\site-packages (from jupyter-client>=6.1.12->nbclient>=0.5.0->nbconvert) (2.9.0.post0)\n",
      "Requirement already satisfied: pyzmq>=23.0 in c:\\software\\new folder\\lib\\site-packages (from jupyter-client>=6.1.12->nbclient>=0.5.0->nbconvert) (25.1.2)\n",
      "Requirement already satisfied: tornado>=6.2 in c:\\software\\new folder\\lib\\site-packages (from jupyter-client>=6.1.12->nbclient>=0.5.0->nbconvert) (6.4.1)\n",
      "Note: you may need to restart the kernel to use updated packages.\n"
     ]
    }
   ],
   "source": [
    "pip install nbconvert"
   ]
  },
  {
   "cell_type": "markdown",
   "id": "8b37bf2b-1ac5-45d6-9185-67f01556ab57",
   "metadata": {},
   "source": [
    "In this notebook data science tools and ecosystem is summerized."
   ]
  },
  {
   "cell_type": "markdown",
   "id": "0bd4dfca-03bf-40ac-83ec-53e365c64294",
   "metadata": {},
   "source": [
    "Some of the popular languages that Data Scientists use are:\n",
    "1. Python\n",
    "2. R\n",
    "3. SQL\n",
    "4. C++"
   ]
  },
  {
   "cell_type": "markdown",
   "id": "4fb5687d-2040-4fdf-8eb1-709c98d686c9",
   "metadata": {},
   "source": [
    "Some of the commonly used libraries used by Data Scientists include: \n",
    "1. NumPy\n",
    "2. Keras\n",
    "3. Pandas\n",
    "4. PyTorch\n",
    "5. SciPy\n",
    "6. Scikit-Learn\n",
    "7. TensorFlow\n",
    "8. Matplotlib\n",
    "9. Seaborn\n",
    "10. Theano\n"
   ]
  },
  {
   "cell_type": "markdown",
   "id": "9bb81289-a7af-42ca-90e6-5da1ce5ef9e8",
   "metadata": {},
   "source": [
    "|Data Science Tools|\n",
    "|------------------|\n",
    "|Power BI|\n",
    "|Excel|\n",
    "|Apache Spark|\n",
    "|Jupyter Notebook|"
   ]
  },
  {
   "cell_type": "markdown",
   "id": "1ddf97f2-8d7d-49b1-850f-42d805ec42ef",
   "metadata": {},
   "source": [
    "### Below are a few examples of evaluating arithmetic expressions in Python"
   ]
  },
  {
   "cell_type": "code",
   "execution_count": 32,
   "id": "93d42e11-5639-49f4-9189-90e7c9d2f7e0",
   "metadata": {},
   "outputs": [
    {
     "data": {
      "text/plain": [
       "17"
      ]
     },
     "execution_count": 32,
     "metadata": {},
     "output_type": "execute_result"
    }
   ],
   "source": [
    "# This a simple arithmetic expression to mutiply then add integers\n",
    "(3*4)+5"
   ]
  },
  {
   "cell_type": "code",
   "execution_count": 36,
   "id": "61a757b1-b11f-4ee0-b7db-0cced1a52827",
   "metadata": {},
   "outputs": [
    {
     "data": {
      "text/plain": [
       "3.3333333333333335"
      ]
     },
     "execution_count": 36,
     "metadata": {},
     "output_type": "execute_result"
    }
   ],
   "source": [
    "#This will convert 200 minutes to hours by diving by 60\n",
    "200/60"
   ]
  },
  {
   "cell_type": "markdown",
   "id": "36916a93-46e2-4942-9c20-b389784215b1",
   "metadata": {},
   "source": [
    "__Objective__\n",
    "* List of languages used in data science\n",
    "* List of tools used in data science\n",
    "* List of libraries used in data science\n",
    "* How to write a code and comment in jupyter notebook"
   ]
  },
  {
   "cell_type": "markdown",
   "id": "58ce3233-5188-448a-b104-537f080192cc",
   "metadata": {
    "jp-MarkdownHeadingCollapsed": true
   },
   "source": [
    "## Author\n",
    "Ashish Shetty"
   ]
  },
  {
   "cell_type": "code",
   "execution_count": null,
   "id": "bbf919aa-8b7c-43b5-ac30-af484ee60c6e",
   "metadata": {},
   "outputs": [],
   "source": []
  }
 ],
 "metadata": {
  "kernelspec": {
   "display_name": "Python [conda env:base] *",
   "language": "python",
   "name": "conda-base-py"
  },
  "language_info": {
   "codemirror_mode": {
    "name": "ipython",
    "version": 3
   },
   "file_extension": ".py",
   "mimetype": "text/x-python",
   "name": "python",
   "nbconvert_exporter": "python",
   "pygments_lexer": "ipython3",
   "version": "3.12.7"
  }
 },
 "nbformat": 4,
 "nbformat_minor": 5
}
